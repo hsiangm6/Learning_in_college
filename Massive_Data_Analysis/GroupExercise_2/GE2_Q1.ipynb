{
  "nbformat": 4,
  "nbformat_minor": 0,
  "metadata": {
    "colab": {
      "provenance": []
    },
    "kernelspec": {
      "name": "python3",
      "display_name": "Python 3"
    },
    "language_info": {
      "name": "python"
    }
  },
  "cells": [
    {
      "cell_type": "code",
      "execution_count": 20,
      "metadata": {
        "colab": {
          "base_uri": "https://localhost:8080/"
        },
        "id": "1n4H42B-jOm8",
        "outputId": "ee26a8ca-70b9-431d-a6e2-10126ca730e8"
      },
      "outputs": [
        {
          "output_type": "stream",
          "name": "stdout",
          "text": [
            "student-por 資料集:\n",
            "  school sex  age address famsize Pstatus  Medu  Fedu     Mjob      Fjob  ...  \\\n",
            "0     GP   F   18       U     GT3       A     4     4  at_home   teacher  ...   \n",
            "1     GP   F   17       U     GT3       T     1     1  at_home     other  ...   \n",
            "2     GP   F   15       U     LE3       T     1     1  at_home     other  ...   \n",
            "3     GP   F   15       U     GT3       T     4     2   health  services  ...   \n",
            "4     GP   F   16       U     GT3       T     3     3    other     other  ...   \n",
            "\n",
            "  famrel freetime  goout  Dalc  Walc health absences  G1  G2  G3  \n",
            "0      4        3      4     1     1      3        4   0  11  11  \n",
            "1      5        3      3     1     1      3        2   9  11  11  \n",
            "2      4        3      2     2     3      3        6  12  13  12  \n",
            "3      3        2      2     1     1      5        0  14  14  14  \n",
            "4      4        3      2     1     2      5        0  11  13  13  \n",
            "\n",
            "[5 rows x 33 columns]\n"
          ]
        }
      ],
      "source": [
        "import pandas as pd\n",
        "\n",
        "# load the given Student Alcohol Consumption data student-por.csv\n",
        "\n",
        "# 讀取 \"student-por\" 資料集\n",
        "student_por_df = pd.read_csv(\"/content/drive/MyDrive/dataset/student-por.csv\")  # 將路徑替換為實際的檔案路徑\n",
        "\n",
        "# 顯示資料集的前幾行\n",
        "print(\"student-por 資料集:\")\n",
        "print(student_por_df.head())"
      ]
    },
    {
      "cell_type": "code",
      "source": [
        "# check and remove records with any NAs, and drop the grade columns\n",
        "# G2 and G3. Then convert all the categorical variables into R factors or Python\n",
        "# Pandas Categoricals.\n",
        "\n",
        "print(student_por_df.columns)\n",
        "\n",
        "# 刪除具有缺失值的記錄\n",
        "student_por_df = student_por_df.dropna()\n",
        "\n",
        "# 刪除 'G2' 和 'G3' 列\n",
        "columns_to_drop = ['G2', 'G3']\n",
        "student_por_df = student_por_df.drop(columns=columns_to_drop, errors='ignore')\n",
        "\n",
        "# 將所有列轉換為 pandas 的 Categoricals\n",
        "for column in student_por_df.columns:\n",
        "    student_por_df[column] = pd.Categorical(student_por_df[column])\n",
        "\n",
        "# 分割線\n",
        "print(\"-------------------------------------------------------------------------\")\n",
        "# 顯示修改後的資料框\n",
        "print(student_por_df.head())"
      ],
      "metadata": {
        "colab": {
          "base_uri": "https://localhost:8080/"
        },
        "id": "wdo-bLG-m6ef",
        "outputId": "0d4491c4-02f3-4131-ebeb-ab45df328715"
      },
      "execution_count": 26,
      "outputs": [
        {
          "output_type": "stream",
          "name": "stdout",
          "text": [
            "Index(['school', 'sex', 'age', 'address', 'famsize', 'Pstatus', 'Medu', 'Fedu',\n",
            "       'Mjob', 'Fjob', 'reason', 'guardian', 'traveltime', 'studytime',\n",
            "       'failures', 'schoolsup', 'famsup', 'paid', 'activities', 'nursery',\n",
            "       'higher', 'internet', 'romantic', 'famrel', 'freetime', 'goout', 'Dalc',\n",
            "       'Walc', 'health', 'absences', 'G1'],\n",
            "      dtype='object')\n",
            "-------------------------------------------------------------------------\n",
            "  school sex age address famsize Pstatus Medu Fedu     Mjob      Fjob  ...  \\\n",
            "0     GP   F  18       U     GT3       A    4    4  at_home   teacher  ...   \n",
            "1     GP   F  17       U     GT3       T    1    1  at_home     other  ...   \n",
            "2     GP   F  15       U     LE3       T    1    1  at_home     other  ...   \n",
            "3     GP   F  15       U     GT3       T    4    2   health  services  ...   \n",
            "4     GP   F  16       U     GT3       T    3    3    other     other  ...   \n",
            "\n",
            "  internet romantic famrel freetime goout Dalc Walc health absences  G1  \n",
            "0       no       no      4        3     4    1    1      3        4   0  \n",
            "1      yes       no      5        3     3    1    1      3        2   9  \n",
            "2      yes       no      4        3     2    2    3      3        6  12  \n",
            "3      yes      yes      3        2     2    1    1      5        0  14  \n",
            "4       no       no      4        3     2    1    2      5        0  11  \n",
            "\n",
            "[5 rows x 31 columns]\n"
          ]
        }
      ]
    },
    {
      "cell_type": "code",
      "source": [
        "import matplotlib.pyplot as plt\n",
        "import seaborn as sns\n",
        "from scipy.stats import shapiro, ttest_ind\n",
        "\n",
        "# draw the density plot of G1 and perform normality tests to check if it is\n",
        "# approximately normally distributed. Then, perform a proper bivariate test to\n",
        "# check whether sex is associated with G1 (the significant level is 0.05)\n",
        "\n",
        "# 繪製 G1 的密度圖\n",
        "plt.figure(figsize=(8, 6))\n",
        "sns.histplot(student_por_df['G1'], kde=True, color='blue')\n",
        "plt.title('G1 的密度圖')\n",
        "plt.xlabel('G1')\n",
        "plt.ylabel('密度')\n",
        "plt.show()\n",
        "\n",
        "# 執行正態性檢驗（Shapiro-Wilk）\n",
        "stat, p_value = shapiro(student_por_df['G1'])\n",
        "print(f\"Shapiro-Wilk 檢驗 - 統計值: {stat}, p-值: {p_value}\")\n",
        "\n",
        "# 根據 p-值檢查正態性\n",
        "if p_value > 0.05:\n",
        "    print(\"G1 近似為正態分佈。\")\n",
        "else:\n",
        "    print(\"G1 不是正態分佈。\")\n",
        "\n",
        "# 執行雙變量測試（t-測試），檢查性別與 G1 之間的關聯\n",
        "male_g1 = student_por_df[student_por_df['sex'] == 'M']['G1']\n",
        "female_g1 = student_por_df[student_por_df['sex'] == 'F']['G1']\n",
        "\n",
        "# 執行獨立樣本 t-測試\n",
        "t_stat, p_value_ttest = ttest_ind(male_g1, female_g1)\n",
        "\n",
        "# 根據 p-值檢查顯著性\n",
        "print(f\"獨立樣本 t-測試 - t-統計值: {t_stat}, p-值: {p_value_ttest}\")\n",
        "\n",
        "if p_value_ttest < 0.05:\n",
        "    print(\"性別與 G1 之間存在顯著關聯。\")\n",
        "else:\n",
        "    print(\"性別與 G1 之間不存在顯著關聯。\")"
      ],
      "metadata": {
        "colab": {
          "base_uri": "https://localhost:8080/",
          "height": 792
        },
        "id": "G3evkCkTnjjh",
        "outputId": "4879d42a-d216-4ba6-8f8b-2c0285b0dac2"
      },
      "execution_count": 27,
      "outputs": [
        {
          "output_type": "stream",
          "name": "stderr",
          "text": [
            "/usr/local/lib/python3.10/dist-packages/IPython/core/pylabtools.py:151: UserWarning: Glyph 23494 (\\N{CJK UNIFIED IDEOGRAPH-5BC6}) missing from current font.\n",
            "  fig.canvas.print_figure(bytes_io, **kw)\n",
            "/usr/local/lib/python3.10/dist-packages/IPython/core/pylabtools.py:151: UserWarning: Glyph 24230 (\\N{CJK UNIFIED IDEOGRAPH-5EA6}) missing from current font.\n",
            "  fig.canvas.print_figure(bytes_io, **kw)\n",
            "/usr/local/lib/python3.10/dist-packages/IPython/core/pylabtools.py:151: UserWarning: Glyph 30340 (\\N{CJK UNIFIED IDEOGRAPH-7684}) missing from current font.\n",
            "  fig.canvas.print_figure(bytes_io, **kw)\n",
            "/usr/local/lib/python3.10/dist-packages/IPython/core/pylabtools.py:151: UserWarning: Glyph 22294 (\\N{CJK UNIFIED IDEOGRAPH-5716}) missing from current font.\n",
            "  fig.canvas.print_figure(bytes_io, **kw)\n"
          ]
        },
        {
          "output_type": "display_data",
          "data": {
            "text/plain": [
              "<Figure size 800x600 with 1 Axes>"
            ],
            "image/png": "[encoded data removed]"
          },
          "metadata": {}
        },
        {
          "output_type": "stream",
          "name": "stdout",
          "text": [
            "Shapiro-Wilk 檢驗 - 統計值: 0.9855360984802246, p-值: 4.9233394747716375e-06\n",
            "G1 不是正態分佈。\n",
            "獨立樣本 t-測試 - t-統計值: -2.662594513903567, p-值: 0.00794686964972506\n",
            "性別與 G1 之間存在顯著關聯。\n"
          ]
        }
      ]
    },
    {
      "cell_type": "code",
      "source": [
        "# Please create a function rmse(y_true, y_pred), which computes the RMSE of\n",
        "# the model prediction\n",
        "\n",
        "import numpy as np\n",
        "\n",
        "def rmse(y_true, y_pred):\n",
        "    \"\"\"\n",
        "    計算真實值和預測值之間的均方根誤差（RMSE）。\n",
        "\n",
        "    參數：\n",
        "    - y_true: 類似陣列，形狀 (n_samples,)\n",
        "        真實值。\n",
        "    - y_pred: 類似陣列，形狀 (n_samples,)\n",
        "        預測值。\n",
        "\n",
        "    返回：\n",
        "    - float\n",
        "        RMSE 值。\n",
        "    \"\"\"\n",
        "    y_true = np.array(y_true)\n",
        "    y_pred = np.array(y_pred)\n",
        "\n",
        "    if len(y_true) != len(y_pred):\n",
        "        raise ValueError(\"y_true 和 y_pred 的長度必須相同。\")\n",
        "\n",
        "    mse = np.mean((y_true - y_pred)**2)\n",
        "    rmse_value = np.sqrt(mse)\n",
        "\n",
        "    return rmse_value\n",
        "\n",
        "# example\n",
        "真實值 = [2, 4, 5, 4, 5]\n",
        "預測值 = [1.8, 4.2, 4.9, 3.8, 5.2]\n",
        "\n",
        "rmse_score = rmse(真實值, 預測值)\n",
        "print(f\"RMSE: {rmse_score}\")"
      ],
      "metadata": {
        "colab": {
          "base_uri": "https://localhost:8080/"
        },
        "id": "VRFYctDBqkyr",
        "outputId": "b85d38d4-ec91-4bbf-8297-11cd25aba4ec"
      },
      "execution_count": 31,
      "outputs": [
        {
          "output_type": "stream",
          "name": "stdout",
          "text": [
            "RMSE: 0.1843908891458578\n"
          ]
        }
      ]
    },
    {
      "cell_type": "code",
      "source": [
        "# Please split the data into training (70%) and testing (30%) sets with a random\n",
        "# seed 0, and train models to predict the outcome/target G1. (Note that you\n",
        "# should rescale the data if needed). Use any statistical learning and feature\n",
        "# selection techniques to create a better model with low testing RMSE. Please\n",
        "# report both the training and the testing RMSE of your models. Note that your\n",
        "# testing RMSE must be at least lower than 2.35\n",
        "\n",
        "from sklearn.model_selection import train_test_split\n",
        "from sklearn.linear_model import LinearRegression\n",
        "from sklearn.preprocessing import StandardScaler\n",
        "from sklearn.metrics import mean_squared_error\n",
        "from math import sqrt\n",
        "\n",
        "# 資料預處理\n",
        "X = student_por_df.drop('G1', axis=1)  # 特徵\n",
        "y = student_por_df['G1']  # 目標\n",
        "\n",
        "# 將類別變數轉換為虛擬變數\n",
        "X = pd.get_dummies(X)\n",
        "\n",
        "# 將數據分為訓練集和測試集\n",
        "X_train, X_test, y_train, y_test = train_test_split(X, y, test_size=0.3, random_state=0)\n",
        "\n",
        "# 特徵縮放，這裡使用標準化\n",
        "scaler = StandardScaler()\n",
        "X_train_scaled = scaler.fit_transform(X_train)\n",
        "X_test_scaled = scaler.transform(X_test)\n",
        "\n",
        "# 建立線性回歸模型\n",
        "model = LinearRegression()\n",
        "model.fit(X_train_scaled, y_train)\n",
        "\n",
        "# 預測訓練集和測試集\n",
        "y_train_pred = model.predict(X_train_scaled)\n",
        "y_test_pred = model.predict(X_test_scaled)\n",
        "\n",
        "# 計算 RMSE\n",
        "train_rmse = sqrt(mean_squared_error(y_train, y_train_pred))\n",
        "test_rmse = sqrt(mean_squared_error(y_test, y_test_pred))\n",
        "\n",
        "print(f\"訓練集 RMSE: {train_rmse}\")\n",
        "print(f\"測試集 RMSE: {test_rmse}\")\n",
        "\n",
        "# 檢查測試 RMSE 是否低於 2.35\n",
        "if test_rmse < 2.35:\n",
        "    print(\"模型的測試集 RMSE 符合要求。\")\n",
        "else:\n",
        "    print(\"請調整模型以達到更低的測試集 RMSE。\")"
      ],
      "metadata": {
        "colab": {
          "base_uri": "https://localhost:8080/"
        },
        "id": "niJDWLwSq4lG",
        "outputId": "d93297cf-e126-4601-e735-64970e0975cd"
      },
      "execution_count": 33,
      "outputs": [
        {
          "output_type": "stream",
          "name": "stdout",
          "text": [
            "訓練集 RMSE: 2.0626248801113163\n",
            "測試集 RMSE: 6583563747280.133\n",
            "請調整模型以達到更低的測試集 RMSE。\n"
          ]
        }
      ]
    },
    {
      "cell_type": "code",
      "source": [],
      "metadata": {
        "id": "e3DODHN6ro5-"
      },
      "execution_count": null,
      "outputs": []
    }
  ]
}