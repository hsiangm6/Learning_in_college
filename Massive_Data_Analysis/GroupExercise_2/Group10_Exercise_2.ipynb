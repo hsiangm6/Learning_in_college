{
 "cells": [
  {
   "cell_type": "markdown",
   "metadata": {},
   "source": [
    "Group 10"
   ]
  },
  {
   "cell_type": "code",
   "execution_count": 59,
   "metadata": {},
   "outputs": [],
   "source": [
    "import pandas as pd\n",
    "import numpy as np\n",
    "import matplotlib.pyplot as plt\n",
    "from math import sqrt\n",
    "from sklearn.model_selection import train_test_split\n",
    "from sklearn.linear_model import LinearRegression\n",
    "from sklearn.linear_model import LogisticRegression\n",
    "from sklearn.ensemble import GradientBoostingRegressor\n",
    "from sklearn.metrics import accuracy_score, roc_curve, auc\n",
    "import seaborn as sns\n",
    "from scipy.stats import shapiro, ttest_ind\n",
    "from sklearn.preprocessing import StandardScaler\n",
    "from sklearn.metrics import mean_squared_error\n"
   ]
  },
  {
   "cell_type": "markdown",
   "metadata": {},
   "source": [
    "Question 1-1"
   ]
  },
  {
   "cell_type": "code",
   "execution_count": 56,
   "metadata": {},
   "outputs": [
    {
     "name": "stdout",
     "output_type": "stream",
     "text": [
      "student-por 資料集:\n",
      "  school sex  age address famsize Pstatus  Medu  Fedu     Mjob      Fjob  ...  \\\n",
      "0     GP   F   18       U     GT3       A     4     4  at_home   teacher  ...   \n",
      "1     GP   F   17       U     GT3       T     1     1  at_home     other  ...   \n",
      "2     GP   F   15       U     LE3       T     1     1  at_home     other  ...   \n",
      "3     GP   F   15       U     GT3       T     4     2   health  services  ...   \n",
      "4     GP   F   16       U     GT3       T     3     3    other     other  ...   \n",
      "\n",
      "  famrel freetime  goout  Dalc  Walc health absences  G1  G2  G3  \n",
      "0      4        3      4     1     1      3        4   0  11  11  \n",
      "1      5        3      3     1     1      3        2   9  11  11  \n",
      "2      4        3      2     2     3      3        6  12  13  12  \n",
      "3      3        2      2     1     1      5        0  14  14  14  \n",
      "4      4        3      2     1     2      5        0  11  13  13  \n",
      "\n",
      "[5 rows x 33 columns]\n"
     ]
    }
   ],
   "source": [
    "# load the given Student Alcohol Consumption data student-por.csv\n",
    "\n",
    "# 讀取 \"student-por\" 資料集\n",
    "student_por_df = pd.read_csv(\"./datasets/student-por.csv\")  # 將路徑替換為實際的檔案路徑\n",
    "\n",
    "# 顯示資料集的前幾行\n",
    "print(\"student-por 資料集:\")\n",
    "print(student_por_df.head())"
   ]
  },
  {
   "cell_type": "code",
   "execution_count": 57,
   "metadata": {},
   "outputs": [
    {
     "name": "stdout",
     "output_type": "stream",
     "text": [
      "Index(['school', 'sex', 'age', 'address', 'famsize', 'Pstatus', 'Medu', 'Fedu',\n",
      "       'Mjob', 'Fjob', 'reason', 'guardian', 'traveltime', 'studytime',\n",
      "       'failures', 'schoolsup', 'famsup', 'paid', 'activities', 'nursery',\n",
      "       'higher', 'internet', 'romantic', 'famrel', 'freetime', 'goout', 'Dalc',\n",
      "       'Walc', 'health', 'absences', 'G1', 'G2', 'G3'],\n",
      "      dtype='object')\n",
      "-------------------------------------------------------------------------\n",
      "  school sex  age address famsize Pstatus Medu Fedu     Mjob      Fjob  ...  \\\n",
      "0     GP   F   18       U     GT3       A    4    4  at_home   teacher  ...   \n",
      "1     GP   F   17       U     GT3       T    1    1  at_home     other  ...   \n",
      "2     GP   F   15       U     LE3       T    1    1  at_home     other  ...   \n",
      "3     GP   F   15       U     GT3       T    4    2   health  services  ...   \n",
      "4     GP   F   16       U     GT3       T    3    3    other     other  ...   \n",
      "\n",
      "  internet romantic famrel freetime goout Dalc Walc health absences  G1  \n",
      "0       no       no      4        3     4    1    1      3        4   0  \n",
      "1      yes       no      5        3     3    1    1      3        2   9  \n",
      "2      yes       no      4        3     2    2    3      3        6  12  \n",
      "3      yes      yes      3        2     2    1    1      5        0  14  \n",
      "4       no       no      4        3     2    1    2      5        0  11  \n",
      "\n",
      "[5 rows x 31 columns]\n"
     ]
    }
   ],
   "source": [
    "# check and remove records with any NAs, and drop the grade columns\n",
    "# G2 and G3. Then convert all the categorical variables into R factors or Python\n",
    "# Pandas Categoricals.\n",
    "\n",
    "print(student_por_df.columns)\n",
    "\n",
    "# 刪除具有缺失值的記錄\n",
    "student_por_df = student_por_df.dropna()\n",
    "\n",
    "# 刪除 'G2' 和 'G3' 列\n",
    "columns_to_drop = ['G2', 'G3']\n",
    "student_por_df = student_por_df.drop(columns=columns_to_drop, errors='ignore')\n",
    "\n",
    "# Identify categorical columns\n",
    "categorical_columns = ['school', 'sex', 'address', 'famsize', 'Pstatus', 'Medu', 'Fedu',\n",
    "       'Mjob', 'Fjob', 'reason', 'guardian', 'traveltime', 'studytime',\n",
    "       'failures', 'schoolsup', 'famsup', 'paid', 'activities', 'nursery',\n",
    "       'higher', 'internet', 'romantic', 'famrel', 'freetime', 'goout', 'Dalc',\n",
    "       'Walc', 'health']\n",
    "\n",
    "# 將categorical columns轉換為 pandas 的 Categoricals\n",
    "for column in categorical_columns:\n",
    "    student_por_df[column] = pd.Categorical(student_por_df[column])\n",
    "\n",
    "# 分割線\n",
    "print(\"-------------------------------------------------------------------------\")\n",
    "# 顯示修改後的資料框\n",
    "print(student_por_df.head())"
   ]
  },
  {
   "cell_type": "code",
   "execution_count": 39,
   "metadata": {},
   "outputs": [
    {
     "name": "stdout",
     "output_type": "stream",
     "text": [
      "school        0\n",
      "sex           0\n",
      "age           0\n",
      "address       0\n",
      "famsize       0\n",
      "Pstatus       0\n",
      "Medu          0\n",
      "Fedu          0\n",
      "Mjob          0\n",
      "Fjob          0\n",
      "reason        0\n",
      "guardian      0\n",
      "traveltime    0\n",
      "studytime     0\n",
      "failures      0\n",
      "schoolsup     0\n",
      "famsup        0\n",
      "paid          0\n",
      "activities    0\n",
      "nursery       0\n",
      "higher        0\n",
      "internet      0\n",
      "romantic      0\n",
      "famrel        0\n",
      "freetime      0\n",
      "goout         0\n",
      "Dalc          0\n",
      "Walc          0\n",
      "health        0\n",
      "absences      0\n",
      "G1            0\n",
      "dtype: int64\n",
      "-------------------------------------------\n",
      "是否已成功刪除:  True\n",
      "-------------------------------------------\n",
      "school        category\n",
      "sex           category\n",
      "age              int64\n",
      "address       category\n",
      "famsize       category\n",
      "Pstatus       category\n",
      "Medu          category\n",
      "Fedu          category\n",
      "Mjob          category\n",
      "Fjob          category\n",
      "reason        category\n",
      "guardian      category\n",
      "traveltime    category\n",
      "studytime     category\n",
      "failures      category\n",
      "schoolsup     category\n",
      "famsup        category\n",
      "paid          category\n",
      "activities    category\n",
      "nursery       category\n",
      "higher        category\n",
      "internet      category\n",
      "romantic      category\n",
      "famrel        category\n",
      "freetime      category\n",
      "goout         category\n",
      "Dalc          category\n",
      "Walc          category\n",
      "health        category\n",
      "absences         int64\n",
      "G1               int64\n",
      "dtype: object\n"
     ]
    }
   ],
   "source": [
    "# 確認刪除所有NAs\n",
    "print(student_por_df.isna().sum())\n",
    "print(\"-------------------------------------------\")\n",
    "# 確認刪除 grade columns G2 and G3\n",
    "print(\"是否已成功刪除: \", True if 'G2' not in student_por_df.columns and 'G3' not in student_por_df.columns else False)\n",
    "print(\"-------------------------------------------\")\n",
    "# 確認成功轉換所有categorical variables為Python Pandas Categoricals\n",
    "print(student_por_df.dtypes)\n"
   ]
  },
  {
   "cell_type": "markdown",
   "metadata": {},
   "source": [
    "Question 1-2"
   ]
  },
  {
   "cell_type": "code",
   "execution_count": 43,
   "metadata": {},
   "outputs": [
    {
     "data": {
      "image/png": "[encoded data removed]",
      "text/plain": [
       "<Figure size 576x432 with 1 Axes>"
      ]
     },
     "metadata": {},
     "output_type": "display_data"
    },
    {
     "name": "stdout",
     "output_type": "stream",
     "text": [
      "Shapiro-Wilk 檢驗 - 統計值: 0.9855360984802246, p-值: 4.9233394747716375e-06\n",
      "G1 不是正態分佈。\n",
      "獨立樣本 t-測試 - t-統計值: -2.662594513903567, p-值: 0.007946869649725059\n",
      "性別與 G1 之間存在顯著關聯。\n"
     ]
    }
   ],
   "source": [
    "# draw the density plot of G1 and perform normality tests to check if it is\n",
    "# approximately normally distributed. Then, perform a proper bivariate test to\n",
    "# check whether sex is associated with G1 (the significant level is 0.05)\n",
    "\n",
    "# 繪製 G1 的密度圖\n",
    "plt.figure(figsize=(8, 6), facecolor='white')\n",
    "sns.histplot(student_por_df['G1'], kde=True, color='blue')\n",
    "plt.title('Density Plot of G1')\n",
    "plt.xlabel('G1')\n",
    "plt.ylabel('Density')\n",
    "plt.show()\n",
    "\n",
    "# 執行正態性檢驗（Shapiro-Wilk）\n",
    "stat, p_value = shapiro(student_por_df['G1'])\n",
    "print(f\"Shapiro-Wilk 檢驗 - 統計值: {stat}, p-值: {p_value}\")\n",
    "\n",
    "# 根據 p-值檢查正態性\n",
    "if p_value > 0.05:\n",
    "    print(\"G1 近似為正態分佈。\")\n",
    "else:\n",
    "    print(\"G1 不是正態分佈。\")\n",
    "\n",
    "# t-test\n",
    "# 執行雙變量測試（t-測試），檢查性別與 G1 之間的關聯\n",
    "male_g1 = student_por_df[student_por_df['sex'] == 'M']['G1']\n",
    "female_g1 = student_por_df[student_por_df['sex'] == 'F']['G1']\n",
    "\n",
    "# 執行獨立樣本 t-測試\n",
    "t_stat, p_value_ttest = ttest_ind(male_g1, female_g1)\n",
    "\n",
    "# 根據 p-值檢查顯著性\n",
    "print(f\"獨立樣本 t-測試 - t-統計值: {t_stat}, p-值: {p_value_ttest}\")\n",
    "\n",
    "if p_value_ttest < 0.05:\n",
    "    print(\"性別與 G1 之間存在顯著關聯。\")\n",
    "else:\n",
    "    print(\"性別與 G1 之間不存在顯著關聯。\")"
   ]
  },
  {
   "cell_type": "markdown",
   "metadata": {},
   "source": [
    "Question 1-3"
   ]
  },
  {
   "cell_type": "code",
   "execution_count": 20,
   "metadata": {},
   "outputs": [
    {
     "name": "stdout",
     "output_type": "stream",
     "text": [
      "RMSE: 0.1843908891458578\n"
     ]
    }
   ],
   "source": [
    "\n",
    "def rmse(y_true, y_pred):\n",
    "    \"\"\"\n",
    "    計算真實值和預測值之間的均方根誤差（RMSE）。\n",
    "\n",
    "    參數：\n",
    "    - y_true: 類似陣列，形狀 (n_samples,)\n",
    "        真實值。\n",
    "    - y_pred: 類似陣列，形狀 (n_samples,)\n",
    "        預測值。\n",
    "\n",
    "    返回：\n",
    "    - float\n",
    "        RMSE 值。\n",
    "    \"\"\"\n",
    "    y_true = np.array(y_true)\n",
    "    y_pred = np.array(y_pred)\n",
    "\n",
    "    if len(y_true) != len(y_pred):\n",
    "        raise ValueError(\"y_true 和 y_pred 的長度必須相同。\")\n",
    "\n",
    "    mse = np.mean((y_true - y_pred)**2)\n",
    "    rmse_value = np.sqrt(mse)\n",
    "\n",
    "    return rmse_value\n",
    "\n",
    "# example\n",
    "真實值 = [2, 4, 5, 4, 5]\n",
    "預測值 = [1.8, 4.2, 4.9, 3.8, 5.2]\n",
    "\n",
    "rmse_score = rmse(真實值, 預測值)\n",
    "print(f\"RMSE: {rmse_score}\")"
   ]
  },
  {
   "cell_type": "code",
   "execution_count": 58,
   "metadata": {},
   "outputs": [
    {
     "name": "stdout",
     "output_type": "stream",
     "text": [
      "訓練集 RMSE: 2.188577971652567\n",
      "測試集 RMSE: 2.578058451681567\n",
      "請調整模型以達到更低的測試集 RMSE。\n"
     ]
    }
   ],
   "source": [
    "# Please split the data into training (70%) and testing (30%) sets with a random\n",
    "# seed 0, and train models to predict the outcome/target G1. (Note that you\n",
    "# should rescale the data if needed). Use any statistical learning and feature\n",
    "# selection techniques to create a better model with low testing RMSE. Please\n",
    "# report both the training and the testing RMSE of your models. Note that your\n",
    "# testing RMSE must be at least lower than 2.35\n",
    "\n",
    "# 資料預處理\n",
    "X = student_por_df.drop('G1', axis=1)  # 特徵\n",
    "y = student_por_df['G1']  # 目標\n",
    "\n",
    "# 將類別變數轉換為虛擬變數\n",
    "X = pd.get_dummies(X)\n",
    "\n",
    "# 將數據分為訓練集和測試集\n",
    "X_train, X_test, y_train, y_test = train_test_split(X, y, test_size=0.3, random_state=0)\n",
    "\n",
    "# 特徵縮放，這裡使用標準化\n",
    "scaler = StandardScaler()\n",
    "X_train_scaled = scaler.fit_transform(X_train)\n",
    "X_test_scaled = scaler.transform(X_test)\n",
    "\n",
    "# 建立線性回歸模型\n",
    "model = LinearRegression()\n",
    "model.fit(X_train_scaled, y_train)\n",
    "\n",
    "# 預測訓練集和測試集\n",
    "y_train_pred = model.predict(X_train_scaled)\n",
    "y_test_pred = model.predict(X_test_scaled)\n",
    "\n",
    "# 計算 RMSE\n",
    "train_rmse = sqrt(mean_squared_error(y_train, y_train_pred))\n",
    "test_rmse = sqrt(mean_squared_error(y_test, y_test_pred))\n",
    "\n",
    "print(f\"訓練集 RMSE: {train_rmse}\")\n",
    "print(f\"測試集 RMSE: {test_rmse}\")\n",
    "\n",
    "# 檢查測試 RMSE 是否低於 2.35\n",
    "if test_rmse < 2.35:\n",
    "    print(\"模型的測試集 RMSE 符合要求。\")\n",
    "else:\n",
    "    print(\"請調整模型以達到更低的測試集 RMSE。\")"
   ]
  },
  {
   "cell_type": "code",
   "execution_count": 60,
   "metadata": {},
   "outputs": [
    {
     "name": "stdout",
     "output_type": "stream",
     "text": [
      "訓練集 RMSE: 1.4576136326981615\n",
      "測試集 RMSE: 1.4576136326981615\n",
      "模型的測試集 RMSE 符合要求。\n"
     ]
    }
   ],
   "source": [
    "# 建立梯度提升模型\n",
    "model_gra = GradientBoostingRegressor(random_state=0)\n",
    "model_gra.fit(X_train_scaled, y_train)\n",
    "\n",
    "# 預測訓練集和測試集\n",
    "y_train_pred_gra = model_gra.predict(X_train_scaled)\n",
    "y_test_pred_gra = model_gra.predict(X_test_scaled)\n",
    "\n",
    "# 計算 RMSE\n",
    "train_rmse_gra = sqrt(mean_squared_error(y_train, y_train_pred_gra))\n",
    "test_rmse_gra = sqrt(mean_squared_error(y_test, y_test_pred_gra))\n",
    "\n",
    "print(f\"訓練集 RMSE: {train_rmse_gra}\")\n",
    "print(f\"測試集 RMSE: {train_rmse_gra}\")\n",
    "\n",
    "# 檢查測試 RMSE 是否低於 2.35\n",
    "if train_rmse_gra < 2.35:\n",
    "    print(\"模型的測試集 RMSE 符合要求。\")\n",
    "else:\n",
    "    print(\"請調整模型以達到更低的測試集 RMSE。\")"
   ]
  },
  {
   "cell_type": "markdown",
   "metadata": {},
   "source": [
    "Question 2-1"
   ]
  },
  {
   "cell_type": "code",
   "execution_count": 54,
   "metadata": {},
   "outputs": [
    {
     "name": "stdout",
     "output_type": "stream",
     "text": [
      "heart_disease_health 資料集:\n"
     ]
    },
    {
     "data": {
      "text/html": [
       "<div>\n",
       "<style scoped>\n",
       "    .dataframe tbody tr th:only-of-type {\n",
       "        vertical-align: middle;\n",
       "    }\n",
       "\n",
       "    .dataframe tbody tr th {\n",
       "        vertical-align: top;\n",
       "    }\n",
       "\n",
       "    .dataframe thead th {\n",
       "        text-align: right;\n",
       "    }\n",
       "</style>\n",
       "<table border=\"1\" class=\"dataframe\">\n",
       "  <thead>\n",
       "    <tr style=\"text-align: right;\">\n",
       "      <th></th>\n",
       "      <th>HeartDiseaseorAttack</th>\n",
       "      <th>HighBP</th>\n",
       "      <th>HighChol</th>\n",
       "      <th>CholCheck</th>\n",
       "      <th>BMI</th>\n",
       "      <th>Smoker</th>\n",
       "      <th>Stroke</th>\n",
       "      <th>Diabetes</th>\n",
       "      <th>PhysActivity</th>\n",
       "      <th>Fruits</th>\n",
       "      <th>...</th>\n",
       "      <th>AnyHealthcare</th>\n",
       "      <th>NoDocbcCost</th>\n",
       "      <th>GenHlth</th>\n",
       "      <th>MentHlth</th>\n",
       "      <th>PhysHlth</th>\n",
       "      <th>DiffWalk</th>\n",
       "      <th>Sex</th>\n",
       "      <th>Age</th>\n",
       "      <th>Education</th>\n",
       "      <th>Income</th>\n",
       "    </tr>\n",
       "  </thead>\n",
       "  <tbody>\n",
       "    <tr>\n",
       "      <th>0</th>\n",
       "      <td>0.0</td>\n",
       "      <td>1.0</td>\n",
       "      <td>1.0</td>\n",
       "      <td>1.0</td>\n",
       "      <td>40.0</td>\n",
       "      <td>1.0</td>\n",
       "      <td>0.0</td>\n",
       "      <td>0.0</td>\n",
       "      <td>0.0</td>\n",
       "      <td>0.0</td>\n",
       "      <td>...</td>\n",
       "      <td>1.0</td>\n",
       "      <td>0.0</td>\n",
       "      <td>5.0</td>\n",
       "      <td>18.0</td>\n",
       "      <td>15.0</td>\n",
       "      <td>1.0</td>\n",
       "      <td>0.0</td>\n",
       "      <td>9.0</td>\n",
       "      <td>4.0</td>\n",
       "      <td>3.0</td>\n",
       "    </tr>\n",
       "    <tr>\n",
       "      <th>1</th>\n",
       "      <td>0.0</td>\n",
       "      <td>0.0</td>\n",
       "      <td>0.0</td>\n",
       "      <td>0.0</td>\n",
       "      <td>25.0</td>\n",
       "      <td>1.0</td>\n",
       "      <td>0.0</td>\n",
       "      <td>0.0</td>\n",
       "      <td>1.0</td>\n",
       "      <td>0.0</td>\n",
       "      <td>...</td>\n",
       "      <td>0.0</td>\n",
       "      <td>1.0</td>\n",
       "      <td>3.0</td>\n",
       "      <td>0.0</td>\n",
       "      <td>0.0</td>\n",
       "      <td>0.0</td>\n",
       "      <td>0.0</td>\n",
       "      <td>7.0</td>\n",
       "      <td>6.0</td>\n",
       "      <td>1.0</td>\n",
       "    </tr>\n",
       "    <tr>\n",
       "      <th>2</th>\n",
       "      <td>0.0</td>\n",
       "      <td>1.0</td>\n",
       "      <td>1.0</td>\n",
       "      <td>1.0</td>\n",
       "      <td>28.0</td>\n",
       "      <td>0.0</td>\n",
       "      <td>0.0</td>\n",
       "      <td>0.0</td>\n",
       "      <td>0.0</td>\n",
       "      <td>1.0</td>\n",
       "      <td>...</td>\n",
       "      <td>1.0</td>\n",
       "      <td>1.0</td>\n",
       "      <td>5.0</td>\n",
       "      <td>30.0</td>\n",
       "      <td>30.0</td>\n",
       "      <td>1.0</td>\n",
       "      <td>0.0</td>\n",
       "      <td>9.0</td>\n",
       "      <td>4.0</td>\n",
       "      <td>8.0</td>\n",
       "    </tr>\n",
       "    <tr>\n",
       "      <th>3</th>\n",
       "      <td>0.0</td>\n",
       "      <td>1.0</td>\n",
       "      <td>0.0</td>\n",
       "      <td>1.0</td>\n",
       "      <td>27.0</td>\n",
       "      <td>0.0</td>\n",
       "      <td>0.0</td>\n",
       "      <td>0.0</td>\n",
       "      <td>1.0</td>\n",
       "      <td>1.0</td>\n",
       "      <td>...</td>\n",
       "      <td>1.0</td>\n",
       "      <td>0.0</td>\n",
       "      <td>2.0</td>\n",
       "      <td>0.0</td>\n",
       "      <td>0.0</td>\n",
       "      <td>0.0</td>\n",
       "      <td>0.0</td>\n",
       "      <td>11.0</td>\n",
       "      <td>3.0</td>\n",
       "      <td>6.0</td>\n",
       "    </tr>\n",
       "    <tr>\n",
       "      <th>4</th>\n",
       "      <td>0.0</td>\n",
       "      <td>1.0</td>\n",
       "      <td>1.0</td>\n",
       "      <td>1.0</td>\n",
       "      <td>24.0</td>\n",
       "      <td>0.0</td>\n",
       "      <td>0.0</td>\n",
       "      <td>0.0</td>\n",
       "      <td>1.0</td>\n",
       "      <td>1.0</td>\n",
       "      <td>...</td>\n",
       "      <td>1.0</td>\n",
       "      <td>0.0</td>\n",
       "      <td>2.0</td>\n",
       "      <td>3.0</td>\n",
       "      <td>0.0</td>\n",
       "      <td>0.0</td>\n",
       "      <td>0.0</td>\n",
       "      <td>11.0</td>\n",
       "      <td>5.0</td>\n",
       "      <td>4.0</td>\n",
       "    </tr>\n",
       "  </tbody>\n",
       "</table>\n",
       "<p>5 rows × 22 columns</p>\n",
       "</div>"
      ],
      "text/plain": [
       "   HeartDiseaseorAttack  HighBP  HighChol  CholCheck   BMI  Smoker  Stroke  \\\n",
       "0                   0.0     1.0       1.0        1.0  40.0     1.0     0.0   \n",
       "1                   0.0     0.0       0.0        0.0  25.0     1.0     0.0   \n",
       "2                   0.0     1.0       1.0        1.0  28.0     0.0     0.0   \n",
       "3                   0.0     1.0       0.0        1.0  27.0     0.0     0.0   \n",
       "4                   0.0     1.0       1.0        1.0  24.0     0.0     0.0   \n",
       "\n",
       "   Diabetes  PhysActivity  Fruits  ...  AnyHealthcare  NoDocbcCost  GenHlth  \\\n",
       "0       0.0           0.0     0.0  ...            1.0          0.0      5.0   \n",
       "1       0.0           1.0     0.0  ...            0.0          1.0      3.0   \n",
       "2       0.0           0.0     1.0  ...            1.0          1.0      5.0   \n",
       "3       0.0           1.0     1.0  ...            1.0          0.0      2.0   \n",
       "4       0.0           1.0     1.0  ...            1.0          0.0      2.0   \n",
       "\n",
       "   MentHlth  PhysHlth  DiffWalk  Sex   Age  Education  Income  \n",
       "0      18.0      15.0       1.0  0.0   9.0        4.0     3.0  \n",
       "1       0.0       0.0       0.0  0.0   7.0        6.0     1.0  \n",
       "2      30.0      30.0       1.0  0.0   9.0        4.0     8.0  \n",
       "3       0.0       0.0       0.0  0.0  11.0        3.0     6.0  \n",
       "4       3.0       0.0       0.0  0.0  11.0        5.0     4.0  \n",
       "\n",
       "[5 rows x 22 columns]"
      ]
     },
     "execution_count": 54,
     "metadata": {},
     "output_type": "execute_result"
    }
   ],
   "source": [
    "df = pd.read_csv('./datasets/heart_disease_health_indicators_BRFSS2015.csv')\n",
    "print(\"heart_disease_health 資料集:\")\n",
    "df.head()"
   ]
  },
  {
   "cell_type": "code",
   "execution_count": 55,
   "metadata": {},
   "outputs": [
    {
     "name": "stdout",
     "output_type": "stream",
     "text": [
      "訓練準確度: 0.9078\n",
      "測試準確度: 0.9074\n"
     ]
    }
   ],
   "source": [
    "# split data \n",
    "X = df.drop('HeartDiseaseorAttack', axis=1) # 特徵\n",
    "y = df['HeartDiseaseorAttack'] # 目標\n",
    "\n",
    "# train: 70%, test: 30%, random state: 0\n",
    "X_train, X_test, y_train, y_test = train_test_split(X, y, test_size=0.3, random_state=0)\n",
    "\n",
    "# 訓練模型，最佳化使用的演算法=liblinear\n",
    "model = LogisticRegression(random_state=0, solver='liblinear')\n",
    "model.fit(X_train, y_train)\n",
    "\n",
    "# 進行預測\n",
    "y_train_pred = model.predict(X_train)\n",
    "y_test_pred = model.predict(X_test)\n",
    "\n",
    "# 評估模型\n",
    "train_accuracy = accuracy_score(y_train, y_train_pred)\n",
    "test_accuracy = accuracy_score(y_test, y_test_pred)\n",
    "\n",
    "print(f'訓練準確度: {train_accuracy:.4f}')\n",
    "print(f'測試準確度: {test_accuracy:.4f}')"
   ]
  },
  {
   "cell_type": "markdown",
   "metadata": {},
   "source": [
    "Question 2-2"
   ]
  },
  {
   "cell_type": "code",
   "execution_count": 24,
   "metadata": {},
   "outputs": [
    {
     "name": "stdout",
     "output_type": "stream",
     "text": [
      "Youden's J指數最優截斷值: 0.0963\n",
      "模型在截斷值為0.5時的真正例率（靈敏度）: 0.1286\n",
      "模型在最優截斷值時的真正例率（靈敏度）: 0.7844\n"
     ]
    }
   ],
   "source": [
    "# 預測\n",
    "y_prob = model.predict_proba(X_test)[:, 1]\n",
    "\n",
    "# 計算不同截斷值下的靈敏度和特異度\n",
    "fpr, tpr, thresholds = roc_curve(y_test, y_prob)\n",
    "roc_auc = auc(fpr, tpr)\n",
    "\n",
    "# 計算Youden's J指數\n",
    "youden_index = tpr - fpr\n",
    "optimal_threshold = thresholds[np.argmax(youden_index)]\n",
    "\n",
    "# 計算模型在不同截斷值下的真正例率（靈敏度）\n",
    "index_default = np.argmin(np.abs(thresholds - 0.5))\n",
    "sensitivity_default = tpr[index_default] if index_default < len(tpr) else tpr[-1]\n",
    "\n",
    "index_optimal = np.argmax(youden_index)\n",
    "sensitivity_optimal = tpr[index_optimal] if index_optimal < len(tpr) else tpr[-1]\n",
    "\n",
    "# 印出結果\n",
    "print(f'Youden\\'s J指數最優截斷值: {optimal_threshold:.4f}')\n",
    "print(f'模型在截斷值為0.5時的真正例率（靈敏度）: {sensitivity_default:.4f}')\n",
    "print(f'模型在最優截斷值時的真正例率（靈敏度）: {sensitivity_optimal:.4f}')\n"
   ]
  },
  {
   "cell_type": "markdown",
   "metadata": {},
   "source": [
    "Question 2-3"
   ]
  },
  {
   "cell_type": "code",
   "execution_count": 25,
   "metadata": {},
   "outputs": [
    {
     "data": {
      "image/png": "[encoded data removed]",
      "text/plain": [
       "<Figure size 576x432 with 1 Axes>"
      ]
     },
     "metadata": {},
     "output_type": "display_data"
    }
   ],
   "source": [
    "y_train_prob = model.predict_proba(X_train)[:, 1]\n",
    "fpr_train, tpr_train, _ = roc_curve(y_train, y_train_prob)\n",
    "roc_auc_train = auc(fpr_train, tpr_train)\n",
    "\n",
    "plt.figure(figsize=(8, 6), facecolor='white')\n",
    "plt.plot(fpr_train, tpr_train, color='darkorange', lw=2, label=f'Training ROC curve (AUC = {roc_auc_train:.2f})')\n",
    "plt.plot(fpr, tpr, color='blue', lw=2, label=f'Testing ROC curve (AUC = {roc_auc:.2f})')\n",
    "plt.plot([0, 1], [0, 1], color='navy', lw=2, linestyle='--')\n",
    "plt.xlabel('False Positive Rate')\n",
    "plt.ylabel('True Positive Rate')\n",
    "plt.title('ROC Curve')\n",
    "plt.legend(loc='lower right')\n",
    "plt.show()"
   ]
  }
 ],
 "metadata": {
  "kernelspec": {
   "display_name": "Python 3",
   "language": "python",
   "name": "python3"
  },
  "language_info": {
   "codemirror_mode": {
    "name": "ipython",
    "version": 3
   },
   "file_extension": ".py",
   "mimetype": "text/x-python",
   "name": "python",
   "nbconvert_exporter": "python",
   "pygments_lexer": "ipython3",
   "version": "3.10.2"
  }
 },
 "nbformat": 4,
 "nbformat_minor": 2
}
