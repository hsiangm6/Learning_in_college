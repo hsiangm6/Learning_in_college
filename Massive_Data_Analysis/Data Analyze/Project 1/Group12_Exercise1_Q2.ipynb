{
 "cells": [
  {
   "cell_type": "markdown",
   "source": [
    "# Titanic Datasets Description\n",
    "- **PassengerID** - The ID of each passenger\n",
    "- **Survived** - Survival (0 = No; 1 = Yes)\n",
    "- **Pclass** - Passenger Class (1 = 1st; 2 = 2nd; 3 = 3rd)\n",
    "- **Name** - Name\n",
    "- **Sex** - Sex\n",
    "- **Age** - Age\n",
    "- **Sibsp** - Number of Siblings/Spouses Aboard\n",
    "- **Parch** - Number of Parents/Children Aboard\n",
    "- **Ticket** - Ticket Number\n",
    "- **Fare** - Passenger Fare\n",
    "- **Embarked** - Port of Embarkation (C = Cherbourg; Q = Queenstown; S = Southampton)"
   ],
   "metadata": {
    "collapsed": false
   }
  },
  {
   "cell_type": "code",
   "execution_count": 1,
   "outputs": [
    {
     "data": {
      "text/plain": "     PassengerId  Survived  Pclass   \n0            892         0       3  \\\n1            893         1       3   \n2            894         0       2   \n3            895         0       3   \n4            896         1       3   \n..           ...       ...     ...   \n413         1305         0       3   \n414         1306         1       1   \n415         1307         0       3   \n416         1308         0       3   \n417         1309         0       3   \n\n                                             Name     Sex   Age  SibSp  Parch   \n0                                Kelly, Mr. James    male  34.5      0      0  \\\n1                Wilkes, Mrs. James (Ellen Needs)  female  47.0      1      0   \n2                       Myles, Mr. Thomas Francis    male  62.0      0      0   \n3                                Wirz, Mr. Albert    male  27.0      0      0   \n4    Hirvonen, Mrs. Alexander (Helga E Lindqvist)  female  22.0      1      1   \n..                                            ...     ...   ...    ...    ...   \n413                            Spector, Mr. Woolf    male   NaN      0      0   \n414                  Oliva y Ocana, Dona. Fermina  female  39.0      0      0   \n415                  Saether, Mr. Simon Sivertsen    male  38.5      0      0   \n416                           Ware, Mr. Frederick    male   NaN      0      0   \n417                      Peter, Master. Michael J    male   NaN      1      1   \n\n                 Ticket      Fare Embarked  \n0                330911    7.8292        Q  \n1                363272    7.0000        S  \n2                240276    9.6875        Q  \n3                315154    8.6625        S  \n4               3101298   12.2875        S  \n..                  ...       ...      ...  \n413           A.5. 3236    8.0500        S  \n414            PC 17758  108.9000        C  \n415  SOTON/O.Q. 3101262    7.2500        S  \n416              359309    8.0500        S  \n417                2668   22.3583        C  \n\n[418 rows x 11 columns]",
      "text/html": "<div>\n<style scoped>\n    .dataframe tbody tr th:only-of-type {\n        vertical-align: middle;\n    }\n\n    .dataframe tbody tr th {\n        vertical-align: top;\n    }\n\n    .dataframe thead th {\n        text-align: right;\n    }\n</style>\n<table border=\"1\" class=\"dataframe\">\n  <thead>\n    <tr style=\"text-align: right;\">\n      <th></th>\n      <th>PassengerId</th>\n      <th>Survived</th>\n      <th>Pclass</th>\n      <th>Name</th>\n      <th>Sex</th>\n      <th>Age</th>\n      <th>SibSp</th>\n      <th>Parch</th>\n      <th>Ticket</th>\n      <th>Fare</th>\n      <th>Embarked</th>\n    </tr>\n  </thead>\n  <tbody>\n    <tr>\n      <th>0</th>\n      <td>892</td>\n      <td>0</td>\n      <td>3</td>\n      <td>Kelly, Mr. James</td>\n      <td>male</td>\n      <td>34.5</td>\n      <td>0</td>\n      <td>0</td>\n      <td>330911</td>\n      <td>7.8292</td>\n      <td>Q</td>\n    </tr>\n    <tr>\n      <th>1</th>\n      <td>893</td>\n      <td>1</td>\n      <td>3</td>\n      <td>Wilkes, Mrs. James (Ellen Needs)</td>\n      <td>female</td>\n      <td>47.0</td>\n      <td>1</td>\n      <td>0</td>\n      <td>363272</td>\n      <td>7.0000</td>\n      <td>S</td>\n    </tr>\n    <tr>\n      <th>2</th>\n      <td>894</td>\n      <td>0</td>\n      <td>2</td>\n      <td>Myles, Mr. Thomas Francis</td>\n      <td>male</td>\n      <td>62.0</td>\n      <td>0</td>\n      <td>0</td>\n      <td>240276</td>\n      <td>9.6875</td>\n      <td>Q</td>\n    </tr>\n    <tr>\n      <th>3</th>\n      <td>895</td>\n      <td>0</td>\n      <td>3</td>\n      <td>Wirz, Mr. Albert</td>\n      <td>male</td>\n      <td>27.0</td>\n      <td>0</td>\n      <td>0</td>\n      <td>315154</td>\n      <td>8.6625</td>\n      <td>S</td>\n    </tr>\n    <tr>\n      <th>4</th>\n      <td>896</td>\n      <td>1</td>\n      <td>3</td>\n      <td>Hirvonen, Mrs. Alexander (Helga E Lindqvist)</td>\n      <td>female</td>\n      <td>22.0</td>\n      <td>1</td>\n      <td>1</td>\n      <td>3101298</td>\n      <td>12.2875</td>\n      <td>S</td>\n    </tr>\n    <tr>\n      <th>...</th>\n      <td>...</td>\n      <td>...</td>\n      <td>...</td>\n      <td>...</td>\n      <td>...</td>\n      <td>...</td>\n      <td>...</td>\n      <td>...</td>\n      <td>...</td>\n      <td>...</td>\n      <td>...</td>\n    </tr>\n    <tr>\n      <th>413</th>\n      <td>1305</td>\n      <td>0</td>\n      <td>3</td>\n      <td>Spector, Mr. Woolf</td>\n      <td>male</td>\n      <td>NaN</td>\n      <td>0</td>\n      <td>0</td>\n      <td>A.5. 3236</td>\n      <td>8.0500</td>\n      <td>S</td>\n    </tr>\n    <tr>\n      <th>414</th>\n      <td>1306</td>\n      <td>1</td>\n      <td>1</td>\n      <td>Oliva y Ocana, Dona. Fermina</td>\n      <td>female</td>\n      <td>39.0</td>\n      <td>0</td>\n      <td>0</td>\n      <td>PC 17758</td>\n      <td>108.9000</td>\n      <td>C</td>\n    </tr>\n    <tr>\n      <th>415</th>\n      <td>1307</td>\n      <td>0</td>\n      <td>3</td>\n      <td>Saether, Mr. Simon Sivertsen</td>\n      <td>male</td>\n      <td>38.5</td>\n      <td>0</td>\n      <td>0</td>\n      <td>SOTON/O.Q. 3101262</td>\n      <td>7.2500</td>\n      <td>S</td>\n    </tr>\n    <tr>\n      <th>416</th>\n      <td>1308</td>\n      <td>0</td>\n      <td>3</td>\n      <td>Ware, Mr. Frederick</td>\n      <td>male</td>\n      <td>NaN</td>\n      <td>0</td>\n      <td>0</td>\n      <td>359309</td>\n      <td>8.0500</td>\n      <td>S</td>\n    </tr>\n    <tr>\n      <th>417</th>\n      <td>1309</td>\n      <td>0</td>\n      <td>3</td>\n      <td>Peter, Master. Michael J</td>\n      <td>male</td>\n      <td>NaN</td>\n      <td>1</td>\n      <td>1</td>\n      <td>2668</td>\n      <td>22.3583</td>\n      <td>C</td>\n    </tr>\n  </tbody>\n</table>\n<p>418 rows × 11 columns</p>\n</div>"
     },
     "execution_count": 1,
     "metadata": {},
     "output_type": "execute_result"
    }
   ],
   "source": [
    "import pandas as pd\n",
    "\n",
    "titanic_data = pd.read_csv(\"Titanic.csv\")\n",
    "titanic_data"
   ],
   "metadata": {
    "collapsed": false,
    "ExecuteTime": {
     "end_time": "2023-10-05T07:31:05.133233Z",
     "start_time": "2023-10-05T07:31:05.116828700Z"
    }
   }
  },
  {
   "cell_type": "markdown",
   "source": [
    "### 2.1 Please convert the categorical variables into R factors or Python Pandas Categoricals"
   ],
   "metadata": {
    "collapsed": false
   }
  },
  {
   "cell_type": "code",
   "execution_count": 2,
   "outputs": [
    {
     "name": "stdout",
     "output_type": "stream",
     "text": [
      "<class 'pandas.core.frame.DataFrame'>\n",
      "RangeIndex: 418 entries, 0 to 417\n",
      "Data columns (total 11 columns):\n",
      " #   Column       Non-Null Count  Dtype  \n",
      "---  ------       --------------  -----  \n",
      " 0   PassengerId  418 non-null    int64  \n",
      " 1   Survived     418 non-null    int64  \n",
      " 2   Pclass       418 non-null    int64  \n",
      " 3   Name         418 non-null    object \n",
      " 4   Sex          418 non-null    object \n",
      " 5   Age          332 non-null    float64\n",
      " 6   SibSp        418 non-null    int64  \n",
      " 7   Parch        418 non-null    int64  \n",
      " 8   Ticket       418 non-null    object \n",
      " 9   Fare         417 non-null    float64\n",
      " 10  Embarked     418 non-null    object \n",
      "dtypes: float64(2), int64(5), object(4)\n",
      "memory usage: 36.1+ KB\n"
     ]
    }
   ],
   "source": [
    "titanic_data.info()"
   ],
   "metadata": {
    "collapsed": false,
    "ExecuteTime": {
     "end_time": "2023-10-05T07:31:05.141391100Z",
     "start_time": "2023-10-05T07:31:05.138250300Z"
    }
   }
  },
  {
   "cell_type": "code",
   "execution_count": 3,
   "outputs": [],
   "source": [
    "# Convert to category types\n",
    "titanic_data['Survived'] = titanic_data['Survived'].astype('category')\n",
    "titanic_data['Pclass'] = titanic_data['Pclass'].astype('category')\n",
    "titanic_data['SibSp'] = titanic_data['SibSp'].astype('category')\n",
    "titanic_data['Parch'] = titanic_data['Parch'].astype('category')\n",
    "titanic_data['Sex'] = titanic_data['Sex'].astype('category')\n",
    "titanic_data['Ticket'] = titanic_data['Sex'].astype('category')\n",
    "titanic_data['Embarked'] = titanic_data['Embarked'].astype('category')"
   ],
   "metadata": {
    "collapsed": false,
    "ExecuteTime": {
     "end_time": "2023-10-05T07:31:05.152347700Z",
     "start_time": "2023-10-05T07:31:05.143391900Z"
    }
   }
  },
  {
   "cell_type": "code",
   "execution_count": 4,
   "outputs": [
    {
     "name": "stdout",
     "output_type": "stream",
     "text": [
      "<class 'pandas.core.frame.DataFrame'>\n",
      "RangeIndex: 418 entries, 0 to 417\n",
      "Data columns (total 11 columns):\n",
      " #   Column       Non-Null Count  Dtype   \n",
      "---  ------       --------------  -----   \n",
      " 0   PassengerId  418 non-null    int64   \n",
      " 1   Survived     418 non-null    category\n",
      " 2   Pclass       418 non-null    category\n",
      " 3   Name         418 non-null    object  \n",
      " 4   Sex          418 non-null    category\n",
      " 5   Age          332 non-null    float64 \n",
      " 6   SibSp        418 non-null    category\n",
      " 7   Parch        418 non-null    category\n",
      " 8   Ticket       418 non-null    category\n",
      " 9   Fare         417 non-null    float64 \n",
      " 10  Embarked     418 non-null    category\n",
      "dtypes: category(7), float64(2), int64(1), object(1)\n",
      "memory usage: 17.4+ KB\n"
     ]
    }
   ],
   "source": [
    "titanic_data.info()"
   ],
   "metadata": {
    "collapsed": false,
    "ExecuteTime": {
     "end_time": "2023-10-05T07:31:05.180441500Z",
     "start_time": "2023-10-05T07:31:05.153348900Z"
    }
   }
  },
  {
   "cell_type": "code",
   "execution_count": 5,
   "outputs": [
    {
     "data": {
      "text/plain": "            Survived Pclass                                          Name   \nPassengerId                                                                 \n892                0      3                              Kelly, Mr. James  \\\n893                1      3              Wilkes, Mrs. James (Ellen Needs)   \n894                0      2                     Myles, Mr. Thomas Francis   \n895                0      3                              Wirz, Mr. Albert   \n896                1      3  Hirvonen, Mrs. Alexander (Helga E Lindqvist)   \n...              ...    ...                                           ...   \n1305               0      3                            Spector, Mr. Woolf   \n1306               1      1                  Oliva y Ocana, Dona. Fermina   \n1307               0      3                  Saether, Mr. Simon Sivertsen   \n1308               0      3                           Ware, Mr. Frederick   \n1309               0      3                      Peter, Master. Michael J   \n\n                Sex   Age SibSp Parch  Ticket      Fare Embarked  \nPassengerId                                                       \n892            male  34.5     0     0    male    7.8292        Q  \n893          female  47.0     1     0  female    7.0000        S  \n894            male  62.0     0     0    male    9.6875        Q  \n895            male  27.0     0     0    male    8.6625        S  \n896          female  22.0     1     1  female   12.2875        S  \n...             ...   ...   ...   ...     ...       ...      ...  \n1305           male   NaN     0     0    male    8.0500        S  \n1306         female  39.0     0     0  female  108.9000        C  \n1307           male  38.5     0     0    male    7.2500        S  \n1308           male   NaN     0     0    male    8.0500        S  \n1309           male   NaN     1     1    male   22.3583        C  \n\n[418 rows x 10 columns]",
      "text/html": "<div>\n<style scoped>\n    .dataframe tbody tr th:only-of-type {\n        vertical-align: middle;\n    }\n\n    .dataframe tbody tr th {\n        vertical-align: top;\n    }\n\n    .dataframe thead th {\n        text-align: right;\n    }\n</style>\n<table border=\"1\" class=\"dataframe\">\n  <thead>\n    <tr style=\"text-align: right;\">\n      <th></th>\n      <th>Survived</th>\n      <th>Pclass</th>\n      <th>Name</th>\n      <th>Sex</th>\n      <th>Age</th>\n      <th>SibSp</th>\n      <th>Parch</th>\n      <th>Ticket</th>\n      <th>Fare</th>\n      <th>Embarked</th>\n    </tr>\n    <tr>\n      <th>PassengerId</th>\n      <th></th>\n      <th></th>\n      <th></th>\n      <th></th>\n      <th></th>\n      <th></th>\n      <th></th>\n      <th></th>\n      <th></th>\n      <th></th>\n    </tr>\n  </thead>\n  <tbody>\n    <tr>\n      <th>892</th>\n      <td>0</td>\n      <td>3</td>\n      <td>Kelly, Mr. James</td>\n      <td>male</td>\n      <td>34.5</td>\n      <td>0</td>\n      <td>0</td>\n      <td>male</td>\n      <td>7.8292</td>\n      <td>Q</td>\n    </tr>\n    <tr>\n      <th>893</th>\n      <td>1</td>\n      <td>3</td>\n      <td>Wilkes, Mrs. James (Ellen Needs)</td>\n      <td>female</td>\n      <td>47.0</td>\n      <td>1</td>\n      <td>0</td>\n      <td>female</td>\n      <td>7.0000</td>\n      <td>S</td>\n    </tr>\n    <tr>\n      <th>894</th>\n      <td>0</td>\n      <td>2</td>\n      <td>Myles, Mr. Thomas Francis</td>\n      <td>male</td>\n      <td>62.0</td>\n      <td>0</td>\n      <td>0</td>\n      <td>male</td>\n      <td>9.6875</td>\n      <td>Q</td>\n    </tr>\n    <tr>\n      <th>895</th>\n      <td>0</td>\n      <td>3</td>\n      <td>Wirz, Mr. Albert</td>\n      <td>male</td>\n      <td>27.0</td>\n      <td>0</td>\n      <td>0</td>\n      <td>male</td>\n      <td>8.6625</td>\n      <td>S</td>\n    </tr>\n    <tr>\n      <th>896</th>\n      <td>1</td>\n      <td>3</td>\n      <td>Hirvonen, Mrs. Alexander (Helga E Lindqvist)</td>\n      <td>female</td>\n      <td>22.0</td>\n      <td>1</td>\n      <td>1</td>\n      <td>female</td>\n      <td>12.2875</td>\n      <td>S</td>\n    </tr>\n    <tr>\n      <th>...</th>\n      <td>...</td>\n      <td>...</td>\n      <td>...</td>\n      <td>...</td>\n      <td>...</td>\n      <td>...</td>\n      <td>...</td>\n      <td>...</td>\n      <td>...</td>\n      <td>...</td>\n    </tr>\n    <tr>\n      <th>1305</th>\n      <td>0</td>\n      <td>3</td>\n      <td>Spector, Mr. Woolf</td>\n      <td>male</td>\n      <td>NaN</td>\n      <td>0</td>\n      <td>0</td>\n      <td>male</td>\n      <td>8.0500</td>\n      <td>S</td>\n    </tr>\n    <tr>\n      <th>1306</th>\n      <td>1</td>\n      <td>1</td>\n      <td>Oliva y Ocana, Dona. Fermina</td>\n      <td>female</td>\n      <td>39.0</td>\n      <td>0</td>\n      <td>0</td>\n      <td>female</td>\n      <td>108.9000</td>\n      <td>C</td>\n    </tr>\n    <tr>\n      <th>1307</th>\n      <td>0</td>\n      <td>3</td>\n      <td>Saether, Mr. Simon Sivertsen</td>\n      <td>male</td>\n      <td>38.5</td>\n      <td>0</td>\n      <td>0</td>\n      <td>male</td>\n      <td>7.2500</td>\n      <td>S</td>\n    </tr>\n    <tr>\n      <th>1308</th>\n      <td>0</td>\n      <td>3</td>\n      <td>Ware, Mr. Frederick</td>\n      <td>male</td>\n      <td>NaN</td>\n      <td>0</td>\n      <td>0</td>\n      <td>male</td>\n      <td>8.0500</td>\n      <td>S</td>\n    </tr>\n    <tr>\n      <th>1309</th>\n      <td>0</td>\n      <td>3</td>\n      <td>Peter, Master. Michael J</td>\n      <td>male</td>\n      <td>NaN</td>\n      <td>1</td>\n      <td>1</td>\n      <td>male</td>\n      <td>22.3583</td>\n      <td>C</td>\n    </tr>\n  </tbody>\n</table>\n<p>418 rows × 10 columns</p>\n</div>"
     },
     "execution_count": 5,
     "metadata": {},
     "output_type": "execute_result"
    }
   ],
   "source": [
    "# Set the \"PassengerId\" column as the index of the Titanic dataset\n",
    "titanic_data.set_index(\"PassengerId\", inplace=True)\n",
    "\n",
    "# Display the modified DataFrame with the new index\n",
    "titanic_data"
   ],
   "metadata": {
    "collapsed": false,
    "ExecuteTime": {
     "end_time": "2023-10-05T07:31:05.218533600Z",
     "start_time": "2023-10-05T07:31:05.162971Z"
    }
   }
  },
  {
   "cell_type": "markdown",
   "source": [
    "### 2.2 Calculate the number of NA values in each column with any\n",
    "- “apply” functions in R or Python, and remove those records (rows) with NA values.\n"
   ],
   "metadata": {
    "collapsed": false
   }
  },
  {
   "cell_type": "code",
   "execution_count": 6,
   "outputs": [
    {
     "data": {
      "text/plain": "Survived     0\nPclass       0\nName         0\nSex          0\nAge         86\nSibSp        0\nParch        0\nTicket       0\nFare         1\nEmbarked     0\ndtype: int64"
     },
     "execution_count": 6,
     "metadata": {},
     "output_type": "execute_result"
    }
   ],
   "source": [
    "# Calculate the number of NA values in each column using apply function\n",
    "na_count = titanic_data.apply(lambda x: x.isna().sum())\n",
    "\n",
    "# Print NA counts\n",
    "na_count"
   ],
   "metadata": {
    "collapsed": false,
    "ExecuteTime": {
     "end_time": "2023-10-05T07:31:05.237596800Z",
     "start_time": "2023-10-05T07:31:05.179441800Z"
    }
   }
  },
  {
   "cell_type": "code",
   "execution_count": 7,
   "outputs": [
    {
     "data": {
      "text/plain": "Survived    0\nPclass      0\nName        0\nSex         0\nAge         0\nSibSp       0\nParch       0\nTicket      0\nFare        0\nEmbarked    0\ndtype: int64"
     },
     "execution_count": 7,
     "metadata": {},
     "output_type": "execute_result"
    }
   ],
   "source": [
    "# Remove rows with NA values\n",
    "df_no_na = titanic_data.dropna()\n",
    "\n",
    "# Calculate the number of NA values in each column using apply function\n",
    "df_no_na.apply(lambda x: x.isna().sum())"
   ],
   "metadata": {
    "collapsed": false,
    "ExecuteTime": {
     "end_time": "2023-10-05T07:31:05.242546900Z",
     "start_time": "2023-10-05T07:31:05.189369700Z"
    }
   }
  },
  {
   "cell_type": "markdown",
   "source": [
    "### 2.3 Calculate the average fare (‘Fare’) among the different classes (‘Pclass’).\n",
    "- Please sort the average fare in ascending order and show the result."
   ],
   "metadata": {
    "collapsed": false
   }
  },
  {
   "cell_type": "code",
   "execution_count": 8,
   "outputs": [
    {
     "data": {
      "text/plain": "Pclass\n3    12.459678\n2    22.202104\n1    94.280297\nName: Fare, dtype: float64"
     },
     "execution_count": 8,
     "metadata": {},
     "output_type": "execute_result"
    }
   ],
   "source": [
    "# Calculate average fare by Pclass and sort in ascending order\n",
    "avg_fare = titanic_data.groupby(\"Pclass\")[\"Fare\"].mean().sort_values(ascending=True)\n",
    "# Print the result\n",
    "avg_fare"
   ],
   "metadata": {
    "collapsed": false,
    "ExecuteTime": {
     "end_time": "2023-10-05T07:31:05.289923100Z",
     "start_time": "2023-10-05T07:31:05.205523800Z"
    }
   }
  },
  {
   "cell_type": "markdown",
   "source": [
    "### 2.4 Calculate the correlation matrix between numeric variables.\n",
    "- Which two features have the strongest positive correlation? Which two have the strongest negative correlation? Please explain your answer"
   ],
   "metadata": {
    "collapsed": false
   }
  },
  {
   "cell_type": "code",
   "execution_count": 9,
   "outputs": [
    {
     "data": {
      "text/plain": "            Survived Pclass   Age SibSp Parch      Fare  Sex_female  Sex_male   \nPassengerId                                                                     \n892                0      3  34.5     0     0    7.8292       False      True  \\\n893                1      3  47.0     1     0    7.0000        True     False   \n894                0      2  62.0     0     0    9.6875       False      True   \n895                0      3  27.0     0     0    8.6625       False      True   \n896                1      3  22.0     1     1   12.2875        True     False   \n...              ...    ...   ...   ...   ...       ...         ...       ...   \n1301               1      3   3.0     1     1   13.7750        True     False   \n1303               1      1  37.0     1     0   90.0000        True     False   \n1304               1      3  28.0     0     0    7.7750        True     False   \n1306               1      1  39.0     0     0  108.9000        True     False   \n1307               0      3  38.5     0     0    7.2500       False      True   \n\n             Embarked_C  Embarked_Q  Embarked_S  \nPassengerId                                      \n892               False        True       False  \n893               False       False        True  \n894               False        True       False  \n895               False       False        True  \n896               False       False        True  \n...                 ...         ...         ...  \n1301              False       False        True  \n1303              False        True       False  \n1304              False       False        True  \n1306               True       False       False  \n1307              False       False        True  \n\n[331 rows x 11 columns]",
      "text/html": "<div>\n<style scoped>\n    .dataframe tbody tr th:only-of-type {\n        vertical-align: middle;\n    }\n\n    .dataframe tbody tr th {\n        vertical-align: top;\n    }\n\n    .dataframe thead th {\n        text-align: right;\n    }\n</style>\n<table border=\"1\" class=\"dataframe\">\n  <thead>\n    <tr style=\"text-align: right;\">\n      <th></th>\n      <th>Survived</th>\n      <th>Pclass</th>\n      <th>Age</th>\n      <th>SibSp</th>\n      <th>Parch</th>\n      <th>Fare</th>\n      <th>Sex_female</th>\n      <th>Sex_male</th>\n      <th>Embarked_C</th>\n      <th>Embarked_Q</th>\n      <th>Embarked_S</th>\n    </tr>\n    <tr>\n      <th>PassengerId</th>\n      <th></th>\n      <th></th>\n      <th></th>\n      <th></th>\n      <th></th>\n      <th></th>\n      <th></th>\n      <th></th>\n      <th></th>\n      <th></th>\n      <th></th>\n    </tr>\n  </thead>\n  <tbody>\n    <tr>\n      <th>892</th>\n      <td>0</td>\n      <td>3</td>\n      <td>34.5</td>\n      <td>0</td>\n      <td>0</td>\n      <td>7.8292</td>\n      <td>False</td>\n      <td>True</td>\n      <td>False</td>\n      <td>True</td>\n      <td>False</td>\n    </tr>\n    <tr>\n      <th>893</th>\n      <td>1</td>\n      <td>3</td>\n      <td>47.0</td>\n      <td>1</td>\n      <td>0</td>\n      <td>7.0000</td>\n      <td>True</td>\n      <td>False</td>\n      <td>False</td>\n      <td>False</td>\n      <td>True</td>\n    </tr>\n    <tr>\n      <th>894</th>\n      <td>0</td>\n      <td>2</td>\n      <td>62.0</td>\n      <td>0</td>\n      <td>0</td>\n      <td>9.6875</td>\n      <td>False</td>\n      <td>True</td>\n      <td>False</td>\n      <td>True</td>\n      <td>False</td>\n    </tr>\n    <tr>\n      <th>895</th>\n      <td>0</td>\n      <td>3</td>\n      <td>27.0</td>\n      <td>0</td>\n      <td>0</td>\n      <td>8.6625</td>\n      <td>False</td>\n      <td>True</td>\n      <td>False</td>\n      <td>False</td>\n      <td>True</td>\n    </tr>\n    <tr>\n      <th>896</th>\n      <td>1</td>\n      <td>3</td>\n      <td>22.0</td>\n      <td>1</td>\n      <td>1</td>\n      <td>12.2875</td>\n      <td>True</td>\n      <td>False</td>\n      <td>False</td>\n      <td>False</td>\n      <td>True</td>\n    </tr>\n    <tr>\n      <th>...</th>\n      <td>...</td>\n      <td>...</td>\n      <td>...</td>\n      <td>...</td>\n      <td>...</td>\n      <td>...</td>\n      <td>...</td>\n      <td>...</td>\n      <td>...</td>\n      <td>...</td>\n      <td>...</td>\n    </tr>\n    <tr>\n      <th>1301</th>\n      <td>1</td>\n      <td>3</td>\n      <td>3.0</td>\n      <td>1</td>\n      <td>1</td>\n      <td>13.7750</td>\n      <td>True</td>\n      <td>False</td>\n      <td>False</td>\n      <td>False</td>\n      <td>True</td>\n    </tr>\n    <tr>\n      <th>1303</th>\n      <td>1</td>\n      <td>1</td>\n      <td>37.0</td>\n      <td>1</td>\n      <td>0</td>\n      <td>90.0000</td>\n      <td>True</td>\n      <td>False</td>\n      <td>False</td>\n      <td>True</td>\n      <td>False</td>\n    </tr>\n    <tr>\n      <th>1304</th>\n      <td>1</td>\n      <td>3</td>\n      <td>28.0</td>\n      <td>0</td>\n      <td>0</td>\n      <td>7.7750</td>\n      <td>True</td>\n      <td>False</td>\n      <td>False</td>\n      <td>False</td>\n      <td>True</td>\n    </tr>\n    <tr>\n      <th>1306</th>\n      <td>1</td>\n      <td>1</td>\n      <td>39.0</td>\n      <td>0</td>\n      <td>0</td>\n      <td>108.9000</td>\n      <td>True</td>\n      <td>False</td>\n      <td>True</td>\n      <td>False</td>\n      <td>False</td>\n    </tr>\n    <tr>\n      <th>1307</th>\n      <td>0</td>\n      <td>3</td>\n      <td>38.5</td>\n      <td>0</td>\n      <td>0</td>\n      <td>7.2500</td>\n      <td>False</td>\n      <td>True</td>\n      <td>False</td>\n      <td>False</td>\n      <td>True</td>\n    </tr>\n  </tbody>\n</table>\n<p>331 rows × 11 columns</p>\n</div>"
     },
     "execution_count": 9,
     "metadata": {},
     "output_type": "execute_result"
    }
   ],
   "source": [
    "# Drop unnecessary columns (\"Name\" and \"Ticket\") from the original DataFrame\n",
    "df = df_no_na.drop([\"Name\", \"Ticket\"], axis=1)\n",
    "\n",
    "# Perform one-hot encoding for categorical variables\n",
    "df = pd.get_dummies(df, columns=['Sex', 'Embarked'])\n",
    "\n",
    "# Print the resulting DataFrame\n",
    "df"
   ],
   "metadata": {
    "collapsed": false,
    "ExecuteTime": {
     "end_time": "2023-10-05T07:31:05.290933900Z",
     "start_time": "2023-10-05T07:31:05.206518400Z"
    }
   }
  },
  {
   "cell_type": "code",
   "execution_count": 10,
   "outputs": [
    {
     "name": "stdout",
     "output_type": "stream",
     "text": [
      "\n",
      "correlation matrix:\n"
     ]
    },
    {
     "data": {
      "text/plain": "            Survived    Pclass       Age     SibSp     Parch      Fare   \nSurvived    1.000000 -0.117886  0.005104  0.075450  0.163710  0.192672  \\\nPclass     -0.117886  1.000000 -0.502919  0.001150 -0.003279 -0.585726   \nAge         0.005104 -0.502919  1.000000 -0.088679 -0.058506  0.337932   \nSibSp       0.075450  0.001150 -0.088679  1.000000  0.350736  0.151836   \nParch       0.163710 -0.003279 -0.058506  0.350736  1.000000  0.246088   \nFare        0.192672 -0.585726  0.337932  0.151836  0.246088  1.000000   \nSex_female  1.000000 -0.117886  0.005104  0.075450  0.163710  0.192672   \nSex_male   -1.000000  0.117886 -0.005104 -0.075450 -0.163710 -0.192672   \nEmbarked_C  0.079696 -0.386316  0.185669 -0.045157  0.028491  0.357770   \nEmbarked_Q  0.088764  0.199175 -0.016352 -0.078218 -0.116345 -0.122554   \nEmbarked_S -0.121749  0.252389 -0.163895  0.083968  0.035935 -0.266957   \n\n            Sex_female  Sex_male  Embarked_C  Embarked_Q  Embarked_S  \nSurvived      1.000000 -1.000000    0.079696    0.088764   -0.121749  \nPclass       -0.117886  0.117886   -0.386316    0.199175    0.252389  \nAge           0.005104 -0.005104    0.185669   -0.016352   -0.163895  \nSibSp         0.075450 -0.075450   -0.045157   -0.078218    0.083968  \nParch         0.163710 -0.163710    0.028491   -0.116345    0.035935  \nFare          0.192672 -0.192672    0.357770   -0.122554   -0.266957  \nSex_female    1.000000 -1.000000    0.079696    0.088764   -0.121749  \nSex_male     -1.000000  1.000000   -0.079696   -0.088764    0.121749  \nEmbarked_C    0.079696 -0.079696    1.000000   -0.153123   -0.847820  \nEmbarked_Q    0.088764 -0.088764   -0.153123    1.000000   -0.394211  \nEmbarked_S   -0.121749  0.121749   -0.847820   -0.394211    1.000000  ",
      "text/html": "<div>\n<style scoped>\n    .dataframe tbody tr th:only-of-type {\n        vertical-align: middle;\n    }\n\n    .dataframe tbody tr th {\n        vertical-align: top;\n    }\n\n    .dataframe thead th {\n        text-align: right;\n    }\n</style>\n<table border=\"1\" class=\"dataframe\">\n  <thead>\n    <tr style=\"text-align: right;\">\n      <th></th>\n      <th>Survived</th>\n      <th>Pclass</th>\n      <th>Age</th>\n      <th>SibSp</th>\n      <th>Parch</th>\n      <th>Fare</th>\n      <th>Sex_female</th>\n      <th>Sex_male</th>\n      <th>Embarked_C</th>\n      <th>Embarked_Q</th>\n      <th>Embarked_S</th>\n    </tr>\n  </thead>\n  <tbody>\n    <tr>\n      <th>Survived</th>\n      <td>1.000000</td>\n      <td>-0.117886</td>\n      <td>0.005104</td>\n      <td>0.075450</td>\n      <td>0.163710</td>\n      <td>0.192672</td>\n      <td>1.000000</td>\n      <td>-1.000000</td>\n      <td>0.079696</td>\n      <td>0.088764</td>\n      <td>-0.121749</td>\n    </tr>\n    <tr>\n      <th>Pclass</th>\n      <td>-0.117886</td>\n      <td>1.000000</td>\n      <td>-0.502919</td>\n      <td>0.001150</td>\n      <td>-0.003279</td>\n      <td>-0.585726</td>\n      <td>-0.117886</td>\n      <td>0.117886</td>\n      <td>-0.386316</td>\n      <td>0.199175</td>\n      <td>0.252389</td>\n    </tr>\n    <tr>\n      <th>Age</th>\n      <td>0.005104</td>\n      <td>-0.502919</td>\n      <td>1.000000</td>\n      <td>-0.088679</td>\n      <td>-0.058506</td>\n      <td>0.337932</td>\n      <td>0.005104</td>\n      <td>-0.005104</td>\n      <td>0.185669</td>\n      <td>-0.016352</td>\n      <td>-0.163895</td>\n    </tr>\n    <tr>\n      <th>SibSp</th>\n      <td>0.075450</td>\n      <td>0.001150</td>\n      <td>-0.088679</td>\n      <td>1.000000</td>\n      <td>0.350736</td>\n      <td>0.151836</td>\n      <td>0.075450</td>\n      <td>-0.075450</td>\n      <td>-0.045157</td>\n      <td>-0.078218</td>\n      <td>0.083968</td>\n    </tr>\n    <tr>\n      <th>Parch</th>\n      <td>0.163710</td>\n      <td>-0.003279</td>\n      <td>-0.058506</td>\n      <td>0.350736</td>\n      <td>1.000000</td>\n      <td>0.246088</td>\n      <td>0.163710</td>\n      <td>-0.163710</td>\n      <td>0.028491</td>\n      <td>-0.116345</td>\n      <td>0.035935</td>\n    </tr>\n    <tr>\n      <th>Fare</th>\n      <td>0.192672</td>\n      <td>-0.585726</td>\n      <td>0.337932</td>\n      <td>0.151836</td>\n      <td>0.246088</td>\n      <td>1.000000</td>\n      <td>0.192672</td>\n      <td>-0.192672</td>\n      <td>0.357770</td>\n      <td>-0.122554</td>\n      <td>-0.266957</td>\n    </tr>\n    <tr>\n      <th>Sex_female</th>\n      <td>1.000000</td>\n      <td>-0.117886</td>\n      <td>0.005104</td>\n      <td>0.075450</td>\n      <td>0.163710</td>\n      <td>0.192672</td>\n      <td>1.000000</td>\n      <td>-1.000000</td>\n      <td>0.079696</td>\n      <td>0.088764</td>\n      <td>-0.121749</td>\n    </tr>\n    <tr>\n      <th>Sex_male</th>\n      <td>-1.000000</td>\n      <td>0.117886</td>\n      <td>-0.005104</td>\n      <td>-0.075450</td>\n      <td>-0.163710</td>\n      <td>-0.192672</td>\n      <td>-1.000000</td>\n      <td>1.000000</td>\n      <td>-0.079696</td>\n      <td>-0.088764</td>\n      <td>0.121749</td>\n    </tr>\n    <tr>\n      <th>Embarked_C</th>\n      <td>0.079696</td>\n      <td>-0.386316</td>\n      <td>0.185669</td>\n      <td>-0.045157</td>\n      <td>0.028491</td>\n      <td>0.357770</td>\n      <td>0.079696</td>\n      <td>-0.079696</td>\n      <td>1.000000</td>\n      <td>-0.153123</td>\n      <td>-0.847820</td>\n    </tr>\n    <tr>\n      <th>Embarked_Q</th>\n      <td>0.088764</td>\n      <td>0.199175</td>\n      <td>-0.016352</td>\n      <td>-0.078218</td>\n      <td>-0.116345</td>\n      <td>-0.122554</td>\n      <td>0.088764</td>\n      <td>-0.088764</td>\n      <td>-0.153123</td>\n      <td>1.000000</td>\n      <td>-0.394211</td>\n    </tr>\n    <tr>\n      <th>Embarked_S</th>\n      <td>-0.121749</td>\n      <td>0.252389</td>\n      <td>-0.163895</td>\n      <td>0.083968</td>\n      <td>0.035935</td>\n      <td>-0.266957</td>\n      <td>-0.121749</td>\n      <td>0.121749</td>\n      <td>-0.847820</td>\n      <td>-0.394211</td>\n      <td>1.000000</td>\n    </tr>\n  </tbody>\n</table>\n</div>"
     },
     "execution_count": 10,
     "metadata": {},
     "output_type": "execute_result"
    }
   ],
   "source": [
    "# Calculate the correlation matrix of numerical variables\n",
    "correlation_matrix = df.corr()\n",
    "\n",
    "# Print correlation matrix\n",
    "print(\"\\ncorrelation matrix:\")\n",
    "correlation_matrix"
   ],
   "metadata": {
    "collapsed": false,
    "ExecuteTime": {
     "end_time": "2023-10-05T07:31:05.290933900Z",
     "start_time": "2023-10-05T07:31:05.229151800Z"
    }
   }
  },
  {
   "cell_type": "code",
   "execution_count": 11,
   "outputs": [
    {
     "name": "stdout",
     "output_type": "stream",
     "text": [
      "\n",
      "Relevance to 'survival':\n"
     ]
    },
    {
     "data": {
      "text/plain": "Sex_male     -1.000000\nEmbarked_S   -0.121749\nPclass       -0.117886\nAge           0.005104\nSibSp         0.075450\nEmbarked_C    0.079696\nEmbarked_Q    0.088764\nParch         0.163710\nFare          0.192672\nSurvived      1.000000\nSex_female    1.000000\nName: Survived, dtype: float64"
     },
     "execution_count": 11,
     "metadata": {},
     "output_type": "execute_result"
    }
   ],
   "source": [
    "# Calculate the correlation between \"Survived\" and other numerical variables\n",
    "survival_correlation = correlation_matrix['Survived']\n",
    "\n",
    "# Print the correlation between \"Survived\" and other numerical variables\n",
    "print(\"\\nRelevance to 'survival':\")\n",
    "survival_correlation.sort_values()"
   ],
   "metadata": {
    "collapsed": false,
    "ExecuteTime": {
     "end_time": "2023-10-05T07:31:05.290933900Z",
     "start_time": "2023-10-05T07:31:05.237596800Z"
    }
   }
  },
  {
   "cell_type": "markdown",
   "source": [
    "### Conclusion\n",
    "\n",
    "#### The two most negatively correlated coefficients are:\n",
    "1. `Sex_male` with `Survived` has a correlation coefficient of -1.0, indicating that male passengers had a lower survival rate.\n",
    "2. `Embarked_S` with `Survived` has a correlation coefficient of -0.121749, suggesting that passengers who boarded in Southampton had a lower survival rate.\n",
    "\n",
    "#### The two most positively correlated coefficients are:\n",
    "1. `Sex_female` with `Survived` has a correlation coefficient of 1.0, indicating that female passengers had a higher survival rate.\n",
    "2. `Fare` with `Survived` has a correlation coefficient of 0.192672, suggesting a weak positive correlation between higher fares and higher survival rates.\n"
   ],
   "metadata": {
    "collapsed": false
   }
  },
  {
   "cell_type": "code",
   "execution_count": 11,
   "outputs": [],
   "source": [],
   "metadata": {
    "collapsed": false,
    "ExecuteTime": {
     "end_time": "2023-10-05T07:31:05.290933900Z",
     "start_time": "2023-10-05T07:31:05.244410600Z"
    }
   }
  }
 ],
 "metadata": {
  "kernelspec": {
   "display_name": "Python 3",
   "language": "python",
   "name": "python3"
  },
  "language_info": {
   "codemirror_mode": {
    "name": "ipython",
    "version": 2
   },
   "file_extension": ".py",
   "mimetype": "text/x-python",
   "name": "python",
   "nbconvert_exporter": "python",
   "pygments_lexer": "ipython2",
   "version": "2.7.6"
  }
 },
 "nbformat": 4,
 "nbformat_minor": 0
}
